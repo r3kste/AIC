{
  "nbformat": 4,
  "nbformat_minor": 0,
  "metadata": {
    "colab": {
      "provenance": []
    },
    "kernelspec": {
      "name": "python3",
      "display_name": "Python 3"
    },
    "language_info": {
      "name": "python"
    }
  },
  "cells": [
    {
      "cell_type": "markdown",
      "source": [
        "# DC Task 2\n",
        "\n",
        "Welcome to your second task! This will be implementing logistic regression. Follow the code cells given below and fill the empty code cells with the appropriate code. We will walk you through every step of the way. Ensure that you understand every block of code that we've provided before filling the empty blocks.\n",
        "\n",
        "The first step is to import useful libraries. `numpy`, `pandas` and `matplotlib` are very useful in data manipulation as discussed."
      ],
      "metadata": {
        "id": "f-FbJc62ltmC"
      }
    },
    {
      "cell_type": "code",
      "execution_count": null,
      "metadata": {
        "id": "4qgfSdANlikq"
      },
      "outputs": [],
      "source": [
        "import numpy as np\n",
        "import pandas as pd\n",
        "import matplotlib.pyplot as plt\n",
        "import seaborn as sns"
      ]
    },
    {
      "cell_type": "markdown",
      "source": [
        "Now, let's load the training and test datasets using `pd.read_csv()`."
      ],
      "metadata": {
        "id": "SRECZ-Vib2-X"
      }
    },
    {
      "cell_type": "code",
      "source": [
        "train_data = pd.read_csv('/content/car_train.csv')\n",
        "test_data = pd.read_csv('/content/car_test.csv')"
      ],
      "metadata": {
        "id": "trJJw59BbemA"
      },
      "execution_count": null,
      "outputs": []
    },
    {
      "cell_type": "markdown",
      "source": [
        "## Data Visualisation\n",
        "\n",
        "The first step in any kind of Machine Learing model building is data visualisation. It is important to have a feel for the data before we train any kind of model on it. This will help us understand what features are important, if there are any outliers, and if we have to clean some values up before we feed it into a model.\n",
        "\n",
        "Let's get started on some basic commands that may help you do this. An example is given below.\n",
        "\n",
        "1. What command helps you to sample 3 random rows from the data?\n",
        "\n",
        "Answer: `DataFrame.sample(3)`"
      ],
      "metadata": {
        "id": "lqaK0513ccPD"
      }
    },
    {
      "cell_type": "code",
      "source": [
        "train_data.sample(3)"
      ],
      "metadata": {
        "colab": {
          "base_uri": "https://localhost:8080/",
          "height": 143
        },
        "id": "u5iUeheMeP1V",
        "outputId": "3699ca6a-a91d-436d-cf52-1381a528ed77"
      },
      "execution_count": null,
      "outputs": [
        {
          "output_type": "execute_result",
          "data": {
            "text/plain": [
              "      Car_Id Buying_Price Maintenance_Price No_of_Doors Person_Capacity  \\\n",
              "1391    1392          low             vhigh       5more               4   \n",
              "873      874          med             vhigh           2               4   \n",
              "1510    1511          low               med           2               2   \n",
              "\n",
              "      Bluebook_Score Size_of_Luggage Safety Car_Acceptability  \n",
              "1391           6.384             med   high               acc  \n",
              "873            4.788           small    low             unacc  \n",
              "1510           4.788             med    low             unacc  "
            ],
            "text/html": [
              "\n",
              "  <div id=\"df-f9b828b4-bc1a-4a64-b626-dff14b0b734c\" class=\"colab-df-container\">\n",
              "    <div>\n",
              "<style scoped>\n",
              "    .dataframe tbody tr th:only-of-type {\n",
              "        vertical-align: middle;\n",
              "    }\n",
              "\n",
              "    .dataframe tbody tr th {\n",
              "        vertical-align: top;\n",
              "    }\n",
              "\n",
              "    .dataframe thead th {\n",
              "        text-align: right;\n",
              "    }\n",
              "</style>\n",
              "<table border=\"1\" class=\"dataframe\">\n",
              "  <thead>\n",
              "    <tr style=\"text-align: right;\">\n",
              "      <th></th>\n",
              "      <th>Car_Id</th>\n",
              "      <th>Buying_Price</th>\n",
              "      <th>Maintenance_Price</th>\n",
              "      <th>No_of_Doors</th>\n",
              "      <th>Person_Capacity</th>\n",
              "      <th>Bluebook_Score</th>\n",
              "      <th>Size_of_Luggage</th>\n",
              "      <th>Safety</th>\n",
              "      <th>Car_Acceptability</th>\n",
              "    </tr>\n",
              "  </thead>\n",
              "  <tbody>\n",
              "    <tr>\n",
              "      <th>1391</th>\n",
              "      <td>1392</td>\n",
              "      <td>low</td>\n",
              "      <td>vhigh</td>\n",
              "      <td>5more</td>\n",
              "      <td>4</td>\n",
              "      <td>6.384</td>\n",
              "      <td>med</td>\n",
              "      <td>high</td>\n",
              "      <td>acc</td>\n",
              "    </tr>\n",
              "    <tr>\n",
              "      <th>873</th>\n",
              "      <td>874</td>\n",
              "      <td>med</td>\n",
              "      <td>vhigh</td>\n",
              "      <td>2</td>\n",
              "      <td>4</td>\n",
              "      <td>4.788</td>\n",
              "      <td>small</td>\n",
              "      <td>low</td>\n",
              "      <td>unacc</td>\n",
              "    </tr>\n",
              "    <tr>\n",
              "      <th>1510</th>\n",
              "      <td>1511</td>\n",
              "      <td>low</td>\n",
              "      <td>med</td>\n",
              "      <td>2</td>\n",
              "      <td>2</td>\n",
              "      <td>4.788</td>\n",
              "      <td>med</td>\n",
              "      <td>low</td>\n",
              "      <td>unacc</td>\n",
              "    </tr>\n",
              "  </tbody>\n",
              "</table>\n",
              "</div>\n",
              "    <div class=\"colab-df-buttons\">\n",
              "\n",
              "  <div class=\"colab-df-container\">\n",
              "    <button class=\"colab-df-convert\" onclick=\"convertToInteractive('df-f9b828b4-bc1a-4a64-b626-dff14b0b734c')\"\n",
              "            title=\"Convert this dataframe to an interactive table.\"\n",
              "            style=\"display:none;\">\n",
              "\n",
              "  <svg xmlns=\"http://www.w3.org/2000/svg\" height=\"24px\" viewBox=\"0 -960 960 960\">\n",
              "    <path d=\"M120-120v-720h720v720H120Zm60-500h600v-160H180v160Zm220 220h160v-160H400v160Zm0 220h160v-160H400v160ZM180-400h160v-160H180v160Zm440 0h160v-160H620v160ZM180-180h160v-160H180v160Zm440 0h160v-160H620v160Z\"/>\n",
              "  </svg>\n",
              "    </button>\n",
              "\n",
              "  <style>\n",
              "    .colab-df-container {\n",
              "      display:flex;\n",
              "      gap: 12px;\n",
              "    }\n",
              "\n",
              "    .colab-df-convert {\n",
              "      background-color: #E8F0FE;\n",
              "      border: none;\n",
              "      border-radius: 50%;\n",
              "      cursor: pointer;\n",
              "      display: none;\n",
              "      fill: #1967D2;\n",
              "      height: 32px;\n",
              "      padding: 0 0 0 0;\n",
              "      width: 32px;\n",
              "    }\n",
              "\n",
              "    .colab-df-convert:hover {\n",
              "      background-color: #E2EBFA;\n",
              "      box-shadow: 0px 1px 2px rgba(60, 64, 67, 0.3), 0px 1px 3px 1px rgba(60, 64, 67, 0.15);\n",
              "      fill: #174EA6;\n",
              "    }\n",
              "\n",
              "    .colab-df-buttons div {\n",
              "      margin-bottom: 4px;\n",
              "    }\n",
              "\n",
              "    [theme=dark] .colab-df-convert {\n",
              "      background-color: #3B4455;\n",
              "      fill: #D2E3FC;\n",
              "    }\n",
              "\n",
              "    [theme=dark] .colab-df-convert:hover {\n",
              "      background-color: #434B5C;\n",
              "      box-shadow: 0px 1px 3px 1px rgba(0, 0, 0, 0.15);\n",
              "      filter: drop-shadow(0px 1px 2px rgba(0, 0, 0, 0.3));\n",
              "      fill: #FFFFFF;\n",
              "    }\n",
              "  </style>\n",
              "\n",
              "    <script>\n",
              "      const buttonEl =\n",
              "        document.querySelector('#df-f9b828b4-bc1a-4a64-b626-dff14b0b734c button.colab-df-convert');\n",
              "      buttonEl.style.display =\n",
              "        google.colab.kernel.accessAllowed ? 'block' : 'none';\n",
              "\n",
              "      async function convertToInteractive(key) {\n",
              "        const element = document.querySelector('#df-f9b828b4-bc1a-4a64-b626-dff14b0b734c');\n",
              "        const dataTable =\n",
              "          await google.colab.kernel.invokeFunction('convertToInteractive',\n",
              "                                                    [key], {});\n",
              "        if (!dataTable) return;\n",
              "\n",
              "        const docLinkHtml = 'Like what you see? Visit the ' +\n",
              "          '<a target=\"_blank\" href=https://colab.research.google.com/notebooks/data_table.ipynb>data table notebook</a>'\n",
              "          + ' to learn more about interactive tables.';\n",
              "        element.innerHTML = '';\n",
              "        dataTable['output_type'] = 'display_data';\n",
              "        await google.colab.output.renderOutput(dataTable, element);\n",
              "        const docLink = document.createElement('div');\n",
              "        docLink.innerHTML = docLinkHtml;\n",
              "        element.appendChild(docLink);\n",
              "      }\n",
              "    </script>\n",
              "  </div>\n",
              "\n",
              "\n",
              "<div id=\"df-fb4b7827-5af2-4884-ba4c-dcc162a19d6f\">\n",
              "  <button class=\"colab-df-quickchart\" onclick=\"quickchart('df-fb4b7827-5af2-4884-ba4c-dcc162a19d6f')\"\n",
              "            title=\"Suggest charts\"\n",
              "            style=\"display:none;\">\n",
              "\n",
              "<svg xmlns=\"http://www.w3.org/2000/svg\" height=\"24px\"viewBox=\"0 0 24 24\"\n",
              "     width=\"24px\">\n",
              "    <g>\n",
              "        <path d=\"M19 3H5c-1.1 0-2 .9-2 2v14c0 1.1.9 2 2 2h14c1.1 0 2-.9 2-2V5c0-1.1-.9-2-2-2zM9 17H7v-7h2v7zm4 0h-2V7h2v10zm4 0h-2v-4h2v4z\"/>\n",
              "    </g>\n",
              "</svg>\n",
              "  </button>\n",
              "\n",
              "<style>\n",
              "  .colab-df-quickchart {\n",
              "      --bg-color: #E8F0FE;\n",
              "      --fill-color: #1967D2;\n",
              "      --hover-bg-color: #E2EBFA;\n",
              "      --hover-fill-color: #174EA6;\n",
              "      --disabled-fill-color: #AAA;\n",
              "      --disabled-bg-color: #DDD;\n",
              "  }\n",
              "\n",
              "  [theme=dark] .colab-df-quickchart {\n",
              "      --bg-color: #3B4455;\n",
              "      --fill-color: #D2E3FC;\n",
              "      --hover-bg-color: #434B5C;\n",
              "      --hover-fill-color: #FFFFFF;\n",
              "      --disabled-bg-color: #3B4455;\n",
              "      --disabled-fill-color: #666;\n",
              "  }\n",
              "\n",
              "  .colab-df-quickchart {\n",
              "    background-color: var(--bg-color);\n",
              "    border: none;\n",
              "    border-radius: 50%;\n",
              "    cursor: pointer;\n",
              "    display: none;\n",
              "    fill: var(--fill-color);\n",
              "    height: 32px;\n",
              "    padding: 0;\n",
              "    width: 32px;\n",
              "  }\n",
              "\n",
              "  .colab-df-quickchart:hover {\n",
              "    background-color: var(--hover-bg-color);\n",
              "    box-shadow: 0 1px 2px rgba(60, 64, 67, 0.3), 0 1px 3px 1px rgba(60, 64, 67, 0.15);\n",
              "    fill: var(--button-hover-fill-color);\n",
              "  }\n",
              "\n",
              "  .colab-df-quickchart-complete:disabled,\n",
              "  .colab-df-quickchart-complete:disabled:hover {\n",
              "    background-color: var(--disabled-bg-color);\n",
              "    fill: var(--disabled-fill-color);\n",
              "    box-shadow: none;\n",
              "  }\n",
              "\n",
              "  .colab-df-spinner {\n",
              "    border: 2px solid var(--fill-color);\n",
              "    border-color: transparent;\n",
              "    border-bottom-color: var(--fill-color);\n",
              "    animation:\n",
              "      spin 1s steps(1) infinite;\n",
              "  }\n",
              "\n",
              "  @keyframes spin {\n",
              "    0% {\n",
              "      border-color: transparent;\n",
              "      border-bottom-color: var(--fill-color);\n",
              "      border-left-color: var(--fill-color);\n",
              "    }\n",
              "    20% {\n",
              "      border-color: transparent;\n",
              "      border-left-color: var(--fill-color);\n",
              "      border-top-color: var(--fill-color);\n",
              "    }\n",
              "    30% {\n",
              "      border-color: transparent;\n",
              "      border-left-color: var(--fill-color);\n",
              "      border-top-color: var(--fill-color);\n",
              "      border-right-color: var(--fill-color);\n",
              "    }\n",
              "    40% {\n",
              "      border-color: transparent;\n",
              "      border-right-color: var(--fill-color);\n",
              "      border-top-color: var(--fill-color);\n",
              "    }\n",
              "    60% {\n",
              "      border-color: transparent;\n",
              "      border-right-color: var(--fill-color);\n",
              "    }\n",
              "    80% {\n",
              "      border-color: transparent;\n",
              "      border-right-color: var(--fill-color);\n",
              "      border-bottom-color: var(--fill-color);\n",
              "    }\n",
              "    90% {\n",
              "      border-color: transparent;\n",
              "      border-bottom-color: var(--fill-color);\n",
              "    }\n",
              "  }\n",
              "</style>\n",
              "\n",
              "  <script>\n",
              "    async function quickchart(key) {\n",
              "      const quickchartButtonEl =\n",
              "        document.querySelector('#' + key + ' button');\n",
              "      quickchartButtonEl.disabled = true;  // To prevent multiple clicks.\n",
              "      quickchartButtonEl.classList.add('colab-df-spinner');\n",
              "      try {\n",
              "        const charts = await google.colab.kernel.invokeFunction(\n",
              "            'suggestCharts', [key], {});\n",
              "      } catch (error) {\n",
              "        console.error('Error during call to suggestCharts:', error);\n",
              "      }\n",
              "      quickchartButtonEl.classList.remove('colab-df-spinner');\n",
              "      quickchartButtonEl.classList.add('colab-df-quickchart-complete');\n",
              "    }\n",
              "    (() => {\n",
              "      let quickchartButtonEl =\n",
              "        document.querySelector('#df-fb4b7827-5af2-4884-ba4c-dcc162a19d6f button');\n",
              "      quickchartButtonEl.style.display =\n",
              "        google.colab.kernel.accessAllowed ? 'block' : 'none';\n",
              "    })();\n",
              "  </script>\n",
              "</div>\n",
              "    </div>\n",
              "  </div>\n"
            ]
          },
          "metadata": {},
          "execution_count": 54
        }
      ]
    },
    {
      "cell_type": "markdown",
      "source": [
        "### Basic Commands Questions\n",
        "\n",
        "1. Write a command to look at the first seven rows of the data.\n",
        "2. Find a pandas command that tells you the mean, avg, count, max qualities of every numeric column.\n",
        "3. Write a command to find all the unique values in `Car_Acceptability` and the `Buying_Price` column.\n",
        "4. Write a command to count the number of rows in the dataset."
      ],
      "metadata": {
        "id": "AkedWCtiwknI"
      }
    },
    {
      "cell_type": "code",
      "source": [],
      "metadata": {
        "id": "R3xtWTJ-fW1V"
      },
      "execution_count": null,
      "outputs": []
    },
    {
      "cell_type": "code",
      "source": [],
      "metadata": {
        "id": "erEh-UA0xMl2"
      },
      "execution_count": null,
      "outputs": []
    },
    {
      "cell_type": "code",
      "source": [],
      "metadata": {
        "id": "HGCFDIsAxMbF"
      },
      "execution_count": null,
      "outputs": []
    },
    {
      "cell_type": "code",
      "source": [],
      "metadata": {
        "id": "I-Vf-q0dxMJ2"
      },
      "execution_count": null,
      "outputs": []
    },
    {
      "cell_type": "markdown",
      "source": [
        "### Plotting the Data\n",
        "\n",
        "Now that we've gone over some useful basic pandas commands, let's dive a little deeper. We are very interested in understanding the correlation between different columns in this data. One example is given below for your benefit.\n",
        "\n",
        "1. How does the `Person_Capacity` depend on the `Buying_Price`?"
      ],
      "metadata": {
        "id": "qzdZr6Z7gLtr"
      }
    },
    {
      "cell_type": "code",
      "source": [
        "for price in train_data['Buying_Price'].unique():\n",
        "  person_cap = train_data.loc[train_data['Buying_Price'] == f'{price}'].Person_Capacity.value_counts()\n",
        "\n",
        "  sns.barplot(y = person_cap, x = person_cap.index)\n",
        "  plt.show()"
      ],
      "metadata": {
        "id": "hXp6-TKAi5II",
        "colab": {
          "base_uri": "https://localhost:8080/",
          "height": 1000
        },
        "outputId": "f41ed225-fb60-4dbb-f343-81bc54116736"
      },
      "execution_count": null,
      "outputs": [
        {
          "output_type": "display_data",
          "data": {
            "text/plain": [
              "<Figure size 640x480 with 1 Axes>"
            ],
            "image/png": "[encoded data removed]"
          },
          "metadata": {}
        },
        {
          "output_type": "display_data",
          "data": {
            "text/plain": [
              "<Figure size 640x480 with 1 Axes>"
            ],
            "image/png": "[encoded data removed]"
          },
          "metadata": {}
        },
        {
          "output_type": "display_data",
          "data": {
            "text/plain": [
              "<Figure size 640x480 with 1 Axes>"
            ],
            "image/png": "[encoded data removed]"
          },
          "metadata": {}
        },
        {
          "output_type": "display_data",
          "data": {
            "text/plain": [
              "<Figure size 640x480 with 1 Axes>"
            ],
            "image/png": "[encoded data removed]"
          },
          "metadata": {}
        }
      ]
    },
    {
      "cell_type": "markdown",
      "source": [
        "Answer the below questions with the help of `matplotlib` and use the plots to enhance your understanding of the data.\n",
        "\n",
        "1. How does the `Car_Acceptability` depend on the `Buying_Price`? Plot and explain your observations briefly.\n",
        "2. How does the `Car_Acceptability` depend on the `Safety`? That should give you an idea about the priority that users give to safety while buying a car.\n",
        "3. Show the number of cars in each category of acceptability in `Car_Acceptability` using a barplot. What consequences can this have on your model?\n",
        "4. How does the `Bluebook_score` depend on `Person_Capacity`?"
      ],
      "metadata": {
        "id": "Sqat0DiW3zc4"
      }
    },
    {
      "cell_type": "code",
      "source": [],
      "metadata": {
        "id": "5AIGZe_XyOZe"
      },
      "execution_count": null,
      "outputs": []
    },
    {
      "cell_type": "code",
      "source": [],
      "metadata": {
        "id": "QPwWMlwHyOKb"
      },
      "execution_count": null,
      "outputs": []
    },
    {
      "cell_type": "code",
      "source": [],
      "metadata": {
        "id": "iD01UFJaj84Q"
      },
      "execution_count": null,
      "outputs": []
    },
    {
      "cell_type": "code",
      "source": [],
      "metadata": {
        "id": "cMbX97QFQfiq"
      },
      "execution_count": null,
      "outputs": []
    },
    {
      "cell_type": "markdown",
      "source": [
        "### Do it Yourself!\n",
        "\n",
        "Explore the intricacies of the data yourself using the four questions above as a starting point. Think about what plots could help you extract the most meaningful information about the data and how this might help your overall prediction accuracy. Make sure to write your inferences (in comments) after each plot."
      ],
      "metadata": {
        "id": "3uq6dtJdkQlP"
      }
    },
    {
      "cell_type": "code",
      "source": [],
      "metadata": {
        "id": "2iC0KXXbl48K"
      },
      "execution_count": null,
      "outputs": []
    },
    {
      "cell_type": "code",
      "source": [],
      "metadata": {
        "id": "W8o2ny0Hl5lu"
      },
      "execution_count": null,
      "outputs": []
    },
    {
      "cell_type": "code",
      "source": [],
      "metadata": {
        "id": "n3_JqlzNl5bP"
      },
      "execution_count": null,
      "outputs": []
    },
    {
      "cell_type": "markdown",
      "source": [
        "## Data Preprocessing\n",
        "\n",
        "Now that we've understood all the gossip between each of the columns in the dataset, we need to process each feature to ensure that they are appropriate to feed into the model. Some important aspects of this are encoding categorical data, removing duplicate data and redundant features, normalization of values, adjusting class imbalances, etc.\n",
        "\n",
        "Python libraries like `sklearn` can be very helpful in assisting you. Please feel free to look up different ways of preprocessing that might apply here.\n",
        "\n",
        "\n",
        "Note: Do remember to preprocess your test data as well for inference!\n"
      ],
      "metadata": {
        "id": "K46OERIFmJ3u"
      }
    },
    {
      "cell_type": "code",
      "source": [
        "# Which columns in the dataset have missing values?\n",
        "\n",
        "cols_with_missing = [col for col in train_data.columns if train_data[col].isnull().any()]\n",
        "print(cols_with_missing)\n",
        "\n",
        "# Which columns are categorical and need to be encoded?\n",
        "\n",
        "categorical_cols = [col for col in train_data.columns if train_data[col].dtype == \"object\"]\n",
        "print(categorical_cols)\n",
        "\n",
        "# Example for (ordinal) encoding categorical columns\n",
        "\n",
        "train_data['Buying_Price'].replace(['low','med','high', 'vhigh'], [1,2,3,4], inplace=True)\n",
        "\n",
        "# Do the same for the test data"
      ],
      "metadata": {
        "colab": {
          "base_uri": "https://localhost:8080/"
        },
        "id": "Duq_Hqu9mJNI",
        "outputId": "e7d421f5-b320-431c-8f23-a6cac3d046d4"
      },
      "execution_count": null,
      "outputs": [
        {
          "output_type": "stream",
          "name": "stdout",
          "text": [
            "[]\n",
            "['Buying_Price', 'Maintenance_Price', 'No_of_Doors', 'Person_Capacity', 'Size_of_Luggage', 'Safety', 'Car_Acceptability']\n"
          ]
        }
      ]
    },
    {
      "cell_type": "code",
      "source": [],
      "metadata": {
        "id": "yyJOiFezp35v"
      },
      "execution_count": null,
      "outputs": []
    },
    {
      "cell_type": "markdown",
      "source": [
        "## Building the Model\n",
        "\n",
        "Now's the time to finally build a logistic regression model for classification. You may use `scikit-learn` for a simplified implementation. Measure and print your accuracy once you inference your predictions. If you would like to not use `sklearn` then please feel free to delete the below code cell.\n",
        "\n",
        "Also, print the confusion matrix for all the classes and calculate the recall, precision and F1 score for each class."
      ],
      "metadata": {
        "id": "31HaNP9fru_o"
      }
    },
    {
      "cell_type": "code",
      "source": [
        "from sklearn.linear_model import LogisticRegression\n",
        "from sklearn.metrics import accuracy_score, precision_recall_fscore_support\n",
        "from sklearn.metrics import confusion_matrix, ConfusionMatrixDisplay\n",
        "\n",
        "# create a LogisticRegression() object with appropriate parameters like regularization type"
      ],
      "metadata": {
        "id": "EEwKEME3tMbN"
      },
      "execution_count": null,
      "outputs": []
    },
    {
      "cell_type": "code",
      "source": [],
      "metadata": {
        "id": "FW1vDxfltNga"
      },
      "execution_count": null,
      "outputs": []
    },
    {
      "cell_type": "code",
      "source": [],
      "metadata": {
        "id": "dXnPmoEItM-d"
      },
      "execution_count": null,
      "outputs": []
    },
    {
      "cell_type": "markdown",
      "source": [
        "## Conclusion\n",
        "\n",
        "That's it! Hope you've gotten a good idea of how data is visualized, processed and then trained upon by a model to make predictions. Feel free to reach out if you have any doubts because fundamentally any learning process requires interaction."
      ],
      "metadata": {
        "id": "vRXV0xFc0vxK"
      }
    }
  ]
}